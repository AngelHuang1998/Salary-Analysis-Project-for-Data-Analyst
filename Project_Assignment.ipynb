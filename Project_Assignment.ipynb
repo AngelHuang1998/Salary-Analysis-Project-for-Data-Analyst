{
 "cells": [
  {
   "cell_type": "markdown",
   "id": "d71efd1e-dbfb-46f6-833b-79d5a27befc3",
   "metadata": {},
   "source": [
    "# Project Assignment 1"
   ]
  },
  {
   "cell_type": "code",
   "execution_count": 1,
   "id": "85e41153-32a7-49c0-9f06-89b8a4e101b0",
   "metadata": {},
   "outputs": [],
   "source": [
    "import pandas as pd"
   ]
  },
  {
   "cell_type": "code",
   "execution_count": 2,
   "id": "79cfaa4b-b7c1-4c62-87ff-ddbcf7a10e8a",
   "metadata": {},
   "outputs": [],
   "source": [
    "# Load dataset\n",
    "df = pd.read_csv(\"ds_salaries_modified.csv\")"
   ]
  },
  {
   "cell_type": "code",
   "execution_count": 3,
   "id": "ec727d2c-02d9-48f9-9927-b9694dcac7ae",
   "metadata": {},
   "outputs": [],
   "source": [
    "# Selecting the important columns specified by the user\n",
    "important_columns = [\"experience_level\", \"job_title\", \"salary_in_usd\", \"remote_ratio\", \"company_location\", \"company_size\"]\n",
    "df_selected = df[important_columns]"
   ]
  },
  {
   "cell_type": "code",
   "execution_count": 4,
   "id": "2ad02d0b-7c1e-4666-ba57-a8fd0b90d225",
   "metadata": {},
   "outputs": [
    {
     "name": "stdout",
     "output_type": "stream",
     "text": [
      "<class 'pandas.core.frame.DataFrame'>\n",
      "RangeIndex: 3773 entries, 0 to 3772\n",
      "Data columns (total 6 columns):\n",
      " #   Column            Non-Null Count  Dtype \n",
      "---  ------            --------------  ----- \n",
      " 0   experience_level  3773 non-null   object\n",
      " 1   job_title         3763 non-null   object\n",
      " 2   salary_in_usd     3773 non-null   int64 \n",
      " 3   remote_ratio      3773 non-null   int64 \n",
      " 4   company_location  3773 non-null   object\n",
      " 5   company_size      3767 non-null   object\n",
      "dtypes: int64(2), object(4)\n",
      "memory usage: 177.0+ KB\n"
     ]
    }
   ],
   "source": [
    "# Checking basic information about the selected columns\n",
    "df_info = df_selected.info()"
   ]
  },
  {
   "cell_type": "code",
   "execution_count": 5,
   "id": "87207ae7-3b74-47cc-8db7-63ebcfde3eb4",
   "metadata": {},
   "outputs": [
    {
     "name": "stdout",
     "output_type": "stream",
     "text": [
      "Statistics for salary_in_usd:\n",
      "Mean : 137509.51126424596\n",
      "Median : 135000.0\n",
      "Mode : 100000\n",
      "Standard Deviation : 63042.2252169619\n",
      "Range : 5132 - 450000\n",
      "\n",
      "\n",
      "Statistics for remote_ratio:\n",
      "Mean : 46.30267691492181\n",
      "Median : 0.0\n",
      "Mode : 0\n",
      "Standard Deviation : 48.57710890737816\n",
      "Range : 0 - 100\n",
      "\n",
      "\n"
     ]
    }
   ],
   "source": [
    "# Summary statistics for quantitative columns\n",
    "quantitative_columns = [\"salary_in_usd\", \"remote_ratio\"]\n",
    "\n",
    "for col in quantitative_columns:\n",
    "    print(f\"Statistics for {col}:\")\n",
    "    print(f\"Mean : {df[col].mean()}\")\n",
    "    print(f\"Median : {df[col].median()}\")\n",
    "    print(f\"Mode : {df[col].mode()[0]}\")  \n",
    "    print(f\"Standard Deviation : {df[col].std()}\")\n",
    "    print(f\"Range : {df[col].min()} - {df[col].max()}\")\n",
    "    print(\"\\n\")\n"
   ]
  },
  {
   "cell_type": "code",
   "execution_count": 6,
   "id": "6a0c381d-ccfd-44de-8fb0-9e8eaa5f3ab7",
   "metadata": {},
   "outputs": [
    {
     "data": {
      "text/plain": [
       "experience_level     0\n",
       "job_title           10\n",
       "salary_in_usd        0\n",
       "remote_ratio         0\n",
       "company_location     0\n",
       "company_size         6\n",
       "dtype: int64"
      ]
     },
     "execution_count": 6,
     "metadata": {},
     "output_type": "execute_result"
    }
   ],
   "source": [
    "# Checking missing data\n",
    "missing_data = df_selected.isnull().sum()\n",
    "missing_data"
   ]
  },
  {
   "cell_type": "code",
   "execution_count": 7,
   "id": "0b426090-dfef-41e8-aa84-29dea5ee0180",
   "metadata": {},
   "outputs": [
    {
     "data": {
      "text/plain": [
       "experience_level     4\n",
       "job_title           93\n",
       "company_location    72\n",
       "company_size         3\n",
       "dtype: int64"
      ]
     },
     "execution_count": 7,
     "metadata": {},
     "output_type": "execute_result"
    }
   ],
   "source": [
    "# Unique value counts for categorical columns\n",
    "categorical_columns = [\"experience_level\", \"job_title\", \"company_location\", \"company_size\"]\n",
    "unique_counts = df_selected[categorical_columns].nunique()\n",
    "unique_counts"
   ]
  },
  {
   "cell_type": "code",
   "execution_count": 8,
   "id": "caec2a8a-85a1-4960-98f8-73aae818747f",
   "metadata": {},
   "outputs": [
    {
     "data": {
      "text/plain": [
       "job_title\n",
       "Data Engineer                1041\n",
       "Data Scientist                841\n",
       "Data Analyst                  614\n",
       "Machine Learning Engineer     289\n",
       "Analytics Engineer            103\n",
       "Name: count, dtype: int64"
      ]
     },
     "execution_count": 8,
     "metadata": {},
     "output_type": "execute_result"
    }
   ],
   "source": [
    "# top 5 values in \"job_title\"\n",
    "top_5_job_titles = df_selected[\"job_title\"].value_counts().head(5)\n",
    "top_5_job_titles"
   ]
  },
  {
   "cell_type": "code",
   "execution_count": 9,
   "id": "747e0395-676a-4aec-b5ca-a7f0796665f8",
   "metadata": {},
   "outputs": [
    {
     "data": {
      "text/plain": [
       "company_location\n",
       "US    3051\n",
       "GB     173\n",
       "CA      88\n",
       "ES      77\n",
       "IN      60\n",
       "Name: count, dtype: int64"
      ]
     },
     "execution_count": 9,
     "metadata": {},
     "output_type": "execute_result"
    }
   ],
   "source": [
    "# top 5 values in \"company_location\"\n",
    "top_5_company_locations = df_selected[\"company_location\"].value_counts().head(5)\n",
    "top_5_company_locations"
   ]
  },
  {
   "cell_type": "markdown",
   "id": "bd272496-fa28-4006-bea7-c6524ddbaf74",
   "metadata": {},
   "source": [
    "# Project Assignment 2"
   ]
  },
  {
   "cell_type": "markdown",
   "id": "6a0e40e9-2162-480f-956a-4e083e38b329",
   "metadata": {},
   "source": [
    "### 1. data quality analysis"
   ]
  },
  {
   "cell_type": "code",
   "execution_count": 10,
   "id": "7564b3bd-1903-4090-af47-d119230898d1",
   "metadata": {},
   "outputs": [
    {
     "data": {
      "text/plain": [
       "experience_level     0\n",
       "job_title           10\n",
       "salary_in_usd        0\n",
       "remote_ratio         0\n",
       "company_location     0\n",
       "company_size         6\n",
       "dtype: int64"
      ]
     },
     "execution_count": 10,
     "metadata": {},
     "output_type": "execute_result"
    }
   ],
   "source": [
    "# Quantify Missing Values\n",
    "missing_values = df_selected.isnull().sum()\n",
    "missing_values"
   ]
  },
  {
   "cell_type": "code",
   "execution_count": 11,
   "id": "e7d87e88-185b-445a-9fbd-1aca3529a438",
   "metadata": {},
   "outputs": [
    {
     "data": {
      "text/plain": [
       "experience_level       4\n",
       "job_title             93\n",
       "salary_in_usd       1035\n",
       "remote_ratio           3\n",
       "company_location      72\n",
       "company_size           3\n",
       "dtype: int64"
      ]
     },
     "execution_count": 11,
     "metadata": {},
     "output_type": "execute_result"
    }
   ],
   "source": [
    "# Unique Value Counts (to identify low-information columns)\n",
    "unique_counts = df_selected.nunique()\n",
    "unique_counts \n",
    "# All fields have business value and cannot be deleted even if some fields contains few unique values."
   ]
  },
  {
   "cell_type": "markdown",
   "id": "ffe86f58-ae64-4582-abf7-377d809d9218",
   "metadata": {},
   "source": [
    "### 2: Check for Duplicate Rows"
   ]
  },
  {
   "cell_type": "code",
   "execution_count": 12,
   "id": "c5f4ee4f-59ea-4de0-b79f-880247ed1e32",
   "metadata": {},
   "outputs": [
    {
     "name": "stdout",
     "output_type": "stream",
     "text": [
      "Total duplicate rows: 1406\n"
     ]
    },
    {
     "data": {
      "text/html": [
       "<div>\n",
       "<style scoped>\n",
       "    .dataframe tbody tr th:only-of-type {\n",
       "        vertical-align: middle;\n",
       "    }\n",
       "\n",
       "    .dataframe tbody tr th {\n",
       "        vertical-align: top;\n",
       "    }\n",
       "\n",
       "    .dataframe thead th {\n",
       "        text-align: right;\n",
       "    }\n",
       "</style>\n",
       "<table border=\"1\" class=\"dataframe\">\n",
       "  <thead>\n",
       "    <tr style=\"text-align: right;\">\n",
       "      <th></th>\n",
       "      <th>experience_level</th>\n",
       "      <th>job_title</th>\n",
       "      <th>salary_in_usd</th>\n",
       "      <th>remote_ratio</th>\n",
       "      <th>company_location</th>\n",
       "      <th>company_size</th>\n",
       "    </tr>\n",
       "  </thead>\n",
       "  <tbody>\n",
       "    <tr>\n",
       "      <th>115</th>\n",
       "      <td>SE</td>\n",
       "      <td>Data Scientist</td>\n",
       "      <td>150000</td>\n",
       "      <td>0</td>\n",
       "      <td>US</td>\n",
       "      <td>M</td>\n",
       "    </tr>\n",
       "    <tr>\n",
       "      <th>123</th>\n",
       "      <td>SE</td>\n",
       "      <td>Analytics Engineer</td>\n",
       "      <td>289800</td>\n",
       "      <td>0</td>\n",
       "      <td>US</td>\n",
       "      <td>M</td>\n",
       "    </tr>\n",
       "    <tr>\n",
       "      <th>153</th>\n",
       "      <td>MI</td>\n",
       "      <td>Data Engineer</td>\n",
       "      <td>100000</td>\n",
       "      <td>100</td>\n",
       "      <td>US</td>\n",
       "      <td>M</td>\n",
       "    </tr>\n",
       "    <tr>\n",
       "      <th>154</th>\n",
       "      <td>MI</td>\n",
       "      <td>Data Engineer</td>\n",
       "      <td>70000</td>\n",
       "      <td>100</td>\n",
       "      <td>US</td>\n",
       "      <td>M</td>\n",
       "    </tr>\n",
       "    <tr>\n",
       "      <th>160</th>\n",
       "      <td>SE</td>\n",
       "      <td>Data Engineer</td>\n",
       "      <td>115000</td>\n",
       "      <td>0</td>\n",
       "      <td>US</td>\n",
       "      <td>M</td>\n",
       "    </tr>\n",
       "    <tr>\n",
       "      <th>...</th>\n",
       "      <td>...</td>\n",
       "      <td>...</td>\n",
       "      <td>...</td>\n",
       "      <td>...</td>\n",
       "      <td>...</td>\n",
       "      <td>...</td>\n",
       "    </tr>\n",
       "    <tr>\n",
       "      <th>3768</th>\n",
       "      <td>MI</td>\n",
       "      <td>Data Scientist</td>\n",
       "      <td>30523</td>\n",
       "      <td>100</td>\n",
       "      <td>IN</td>\n",
       "      <td>L</td>\n",
       "    </tr>\n",
       "    <tr>\n",
       "      <th>3769</th>\n",
       "      <td>SE</td>\n",
       "      <td>Data Analyst</td>\n",
       "      <td>128500</td>\n",
       "      <td>0</td>\n",
       "      <td>US</td>\n",
       "      <td>M</td>\n",
       "    </tr>\n",
       "    <tr>\n",
       "      <th>3770</th>\n",
       "      <td>SE</td>\n",
       "      <td>Data Architect</td>\n",
       "      <td>92000</td>\n",
       "      <td>100</td>\n",
       "      <td>GB</td>\n",
       "      <td>M</td>\n",
       "    </tr>\n",
       "    <tr>\n",
       "      <th>3771</th>\n",
       "      <td>EN</td>\n",
       "      <td>Data Engineer</td>\n",
       "      <td>160000</td>\n",
       "      <td>0</td>\n",
       "      <td>US</td>\n",
       "      <td>M</td>\n",
       "    </tr>\n",
       "    <tr>\n",
       "      <th>3772</th>\n",
       "      <td>SE</td>\n",
       "      <td>Data Scientist</td>\n",
       "      <td>168000</td>\n",
       "      <td>100</td>\n",
       "      <td>US</td>\n",
       "      <td>M</td>\n",
       "    </tr>\n",
       "  </tbody>\n",
       "</table>\n",
       "<p>1406 rows × 6 columns</p>\n",
       "</div>"
      ],
      "text/plain": [
       "     experience_level           job_title  salary_in_usd  remote_ratio  \\\n",
       "115                SE      Data Scientist         150000             0   \n",
       "123                SE  Analytics Engineer         289800             0   \n",
       "153                MI       Data Engineer         100000           100   \n",
       "154                MI       Data Engineer          70000           100   \n",
       "160                SE       Data Engineer         115000             0   \n",
       "...               ...                 ...            ...           ...   \n",
       "3768               MI      Data Scientist          30523           100   \n",
       "3769               SE        Data Analyst         128500             0   \n",
       "3770               SE      Data Architect          92000           100   \n",
       "3771               EN       Data Engineer         160000             0   \n",
       "3772               SE      Data Scientist         168000           100   \n",
       "\n",
       "     company_location company_size  \n",
       "115                US            M  \n",
       "123                US            M  \n",
       "153                US            M  \n",
       "154                US            M  \n",
       "160                US            M  \n",
       "...               ...          ...  \n",
       "3768               IN            L  \n",
       "3769               US            M  \n",
       "3770               GB            M  \n",
       "3771               US            M  \n",
       "3772               US            M  \n",
       "\n",
       "[1406 rows x 6 columns]"
      ]
     },
     "execution_count": 12,
     "metadata": {},
     "output_type": "execute_result"
    }
   ],
   "source": [
    "#(keep='first')=>選出\"除了第一個之外\"的所有重複行\n",
    "duplicate_rows = df_selected[df_selected.duplicated(keep='first')]\n",
    "print(f\"Total duplicate rows: {duplicate_rows.shape[0]}\")\n",
    "duplicate_rows"
   ]
  },
  {
   "cell_type": "markdown",
   "id": "fe16d532-2b60-464d-a88c-55c60896b228",
   "metadata": {},
   "source": [
    "### 3. Data Cleaning Approach"
   ]
  },
  {
   "cell_type": "code",
   "execution_count": 13,
   "id": "df92a457-43a5-4ea4-8825-ba59e3474b84",
   "metadata": {},
   "outputs": [
    {
     "name": "stdout",
     "output_type": "stream",
     "text": [
      "Total rows BEFORE dropping duplicate rows: 3773\n",
      "Total duplicate rows: 1406\n",
      "Total rows AFTER dropping duplicate rows: 2367\n"
     ]
    },
    {
     "data": {
      "text/html": [
       "<div>\n",
       "<style scoped>\n",
       "    .dataframe tbody tr th:only-of-type {\n",
       "        vertical-align: middle;\n",
       "    }\n",
       "\n",
       "    .dataframe tbody tr th {\n",
       "        vertical-align: top;\n",
       "    }\n",
       "\n",
       "    .dataframe thead th {\n",
       "        text-align: right;\n",
       "    }\n",
       "</style>\n",
       "<table border=\"1\" class=\"dataframe\">\n",
       "  <thead>\n",
       "    <tr style=\"text-align: right;\">\n",
       "      <th></th>\n",
       "      <th>experience_level</th>\n",
       "      <th>job_title</th>\n",
       "      <th>salary_in_usd</th>\n",
       "      <th>remote_ratio</th>\n",
       "      <th>company_location</th>\n",
       "      <th>company_size</th>\n",
       "    </tr>\n",
       "  </thead>\n",
       "  <tbody>\n",
       "    <tr>\n",
       "      <th>0</th>\n",
       "      <td>SE</td>\n",
       "      <td>Principal Data Scientist</td>\n",
       "      <td>85847</td>\n",
       "      <td>100</td>\n",
       "      <td>ES</td>\n",
       "      <td>L</td>\n",
       "    </tr>\n",
       "    <tr>\n",
       "      <th>1</th>\n",
       "      <td>MI</td>\n",
       "      <td>ML Engineer</td>\n",
       "      <td>30000</td>\n",
       "      <td>100</td>\n",
       "      <td>US</td>\n",
       "      <td>S</td>\n",
       "    </tr>\n",
       "    <tr>\n",
       "      <th>2</th>\n",
       "      <td>MI</td>\n",
       "      <td>ML Engineer</td>\n",
       "      <td>25500</td>\n",
       "      <td>100</td>\n",
       "      <td>US</td>\n",
       "      <td>S</td>\n",
       "    </tr>\n",
       "    <tr>\n",
       "      <th>3</th>\n",
       "      <td>SE</td>\n",
       "      <td>Data Scientist</td>\n",
       "      <td>175000</td>\n",
       "      <td>100</td>\n",
       "      <td>CA</td>\n",
       "      <td>M</td>\n",
       "    </tr>\n",
       "    <tr>\n",
       "      <th>4</th>\n",
       "      <td>SE</td>\n",
       "      <td>Data Scientist</td>\n",
       "      <td>120000</td>\n",
       "      <td>100</td>\n",
       "      <td>CA</td>\n",
       "      <td>M</td>\n",
       "    </tr>\n",
       "    <tr>\n",
       "      <th>...</th>\n",
       "      <td>...</td>\n",
       "      <td>...</td>\n",
       "      <td>...</td>\n",
       "      <td>...</td>\n",
       "      <td>...</td>\n",
       "      <td>...</td>\n",
       "    </tr>\n",
       "    <tr>\n",
       "      <th>3750</th>\n",
       "      <td>SE</td>\n",
       "      <td>Data Scientist</td>\n",
       "      <td>412000</td>\n",
       "      <td>100</td>\n",
       "      <td>US</td>\n",
       "      <td>L</td>\n",
       "    </tr>\n",
       "    <tr>\n",
       "      <th>3751</th>\n",
       "      <td>MI</td>\n",
       "      <td>Principal Data Scientist</td>\n",
       "      <td>151000</td>\n",
       "      <td>100</td>\n",
       "      <td>US</td>\n",
       "      <td>L</td>\n",
       "    </tr>\n",
       "    <tr>\n",
       "      <th>3752</th>\n",
       "      <td>EN</td>\n",
       "      <td>Data Scientist</td>\n",
       "      <td>105000</td>\n",
       "      <td>100</td>\n",
       "      <td>US</td>\n",
       "      <td>S</td>\n",
       "    </tr>\n",
       "    <tr>\n",
       "      <th>3753</th>\n",
       "      <td>EN</td>\n",
       "      <td>Business Data Analyst</td>\n",
       "      <td>100000</td>\n",
       "      <td>100</td>\n",
       "      <td>US</td>\n",
       "      <td>L</td>\n",
       "    </tr>\n",
       "    <tr>\n",
       "      <th>3754</th>\n",
       "      <td>SE</td>\n",
       "      <td>Data Science Manager</td>\n",
       "      <td>94665</td>\n",
       "      <td>50</td>\n",
       "      <td>IN</td>\n",
       "      <td>L</td>\n",
       "    </tr>\n",
       "  </tbody>\n",
       "</table>\n",
       "<p>2367 rows × 6 columns</p>\n",
       "</div>"
      ],
      "text/plain": [
       "     experience_level                 job_title  salary_in_usd  remote_ratio  \\\n",
       "0                  SE  Principal Data Scientist          85847           100   \n",
       "1                  MI               ML Engineer          30000           100   \n",
       "2                  MI               ML Engineer          25500           100   \n",
       "3                  SE            Data Scientist         175000           100   \n",
       "4                  SE            Data Scientist         120000           100   \n",
       "...               ...                       ...            ...           ...   \n",
       "3750               SE            Data Scientist         412000           100   \n",
       "3751               MI  Principal Data Scientist         151000           100   \n",
       "3752               EN            Data Scientist         105000           100   \n",
       "3753               EN     Business Data Analyst         100000           100   \n",
       "3754               SE      Data Science Manager          94665            50   \n",
       "\n",
       "     company_location company_size  \n",
       "0                  ES            L  \n",
       "1                  US            S  \n",
       "2                  US            S  \n",
       "3                  CA            M  \n",
       "4                  CA            M  \n",
       "...               ...          ...  \n",
       "3750               US            L  \n",
       "3751               US            L  \n",
       "3752               US            S  \n",
       "3753               US            L  \n",
       "3754               IN            L  \n",
       "\n",
       "[2367 rows x 6 columns]"
      ]
     },
     "execution_count": 13,
     "metadata": {},
     "output_type": "execute_result"
    }
   ],
   "source": [
    "# Drop duplicate rows\n",
    "df_cleaned = df_selected.drop_duplicates()\n",
    "print(f\"Total rows BEFORE dropping duplicate rows: {df_selected.shape[0]}\")\n",
    "print(f\"Total duplicate rows: {duplicate_rows.shape[0]}\")\n",
    "print(f\"Total rows AFTER dropping duplicate rows: {df_cleaned.shape[0]}\")\n",
    "df_cleaned  # DataFrame without duplicate records"
   ]
  },
  {
   "cell_type": "code",
   "execution_count": 14,
   "id": "13e3645b-f8ed-4d50-babc-9c0453ebf756",
   "metadata": {},
   "outputs": [
    {
     "name": "stdout",
     "output_type": "stream",
     "text": [
      "Total rows AFTER dropping row of missing job_title: 2357\n"
     ]
    },
    {
     "data": {
      "text/html": [
       "<div>\n",
       "<style scoped>\n",
       "    .dataframe tbody tr th:only-of-type {\n",
       "        vertical-align: middle;\n",
       "    }\n",
       "\n",
       "    .dataframe tbody tr th {\n",
       "        vertical-align: top;\n",
       "    }\n",
       "\n",
       "    .dataframe thead th {\n",
       "        text-align: right;\n",
       "    }\n",
       "</style>\n",
       "<table border=\"1\" class=\"dataframe\">\n",
       "  <thead>\n",
       "    <tr style=\"text-align: right;\">\n",
       "      <th></th>\n",
       "      <th>experience_level</th>\n",
       "      <th>job_title</th>\n",
       "      <th>salary_in_usd</th>\n",
       "      <th>remote_ratio</th>\n",
       "      <th>company_location</th>\n",
       "      <th>company_size</th>\n",
       "    </tr>\n",
       "  </thead>\n",
       "  <tbody>\n",
       "    <tr>\n",
       "      <th>0</th>\n",
       "      <td>SE</td>\n",
       "      <td>Principal Data Scientist</td>\n",
       "      <td>85847</td>\n",
       "      <td>100</td>\n",
       "      <td>ES</td>\n",
       "      <td>L</td>\n",
       "    </tr>\n",
       "    <tr>\n",
       "      <th>1</th>\n",
       "      <td>MI</td>\n",
       "      <td>ML Engineer</td>\n",
       "      <td>30000</td>\n",
       "      <td>100</td>\n",
       "      <td>US</td>\n",
       "      <td>S</td>\n",
       "    </tr>\n",
       "    <tr>\n",
       "      <th>2</th>\n",
       "      <td>MI</td>\n",
       "      <td>ML Engineer</td>\n",
       "      <td>25500</td>\n",
       "      <td>100</td>\n",
       "      <td>US</td>\n",
       "      <td>S</td>\n",
       "    </tr>\n",
       "    <tr>\n",
       "      <th>3</th>\n",
       "      <td>SE</td>\n",
       "      <td>Data Scientist</td>\n",
       "      <td>175000</td>\n",
       "      <td>100</td>\n",
       "      <td>CA</td>\n",
       "      <td>M</td>\n",
       "    </tr>\n",
       "    <tr>\n",
       "      <th>4</th>\n",
       "      <td>SE</td>\n",
       "      <td>Data Scientist</td>\n",
       "      <td>120000</td>\n",
       "      <td>100</td>\n",
       "      <td>CA</td>\n",
       "      <td>M</td>\n",
       "    </tr>\n",
       "    <tr>\n",
       "      <th>...</th>\n",
       "      <td>...</td>\n",
       "      <td>...</td>\n",
       "      <td>...</td>\n",
       "      <td>...</td>\n",
       "      <td>...</td>\n",
       "      <td>...</td>\n",
       "    </tr>\n",
       "    <tr>\n",
       "      <th>3750</th>\n",
       "      <td>SE</td>\n",
       "      <td>Data Scientist</td>\n",
       "      <td>412000</td>\n",
       "      <td>100</td>\n",
       "      <td>US</td>\n",
       "      <td>L</td>\n",
       "    </tr>\n",
       "    <tr>\n",
       "      <th>3751</th>\n",
       "      <td>MI</td>\n",
       "      <td>Principal Data Scientist</td>\n",
       "      <td>151000</td>\n",
       "      <td>100</td>\n",
       "      <td>US</td>\n",
       "      <td>L</td>\n",
       "    </tr>\n",
       "    <tr>\n",
       "      <th>3752</th>\n",
       "      <td>EN</td>\n",
       "      <td>Data Scientist</td>\n",
       "      <td>105000</td>\n",
       "      <td>100</td>\n",
       "      <td>US</td>\n",
       "      <td>S</td>\n",
       "    </tr>\n",
       "    <tr>\n",
       "      <th>3753</th>\n",
       "      <td>EN</td>\n",
       "      <td>Business Data Analyst</td>\n",
       "      <td>100000</td>\n",
       "      <td>100</td>\n",
       "      <td>US</td>\n",
       "      <td>L</td>\n",
       "    </tr>\n",
       "    <tr>\n",
       "      <th>3754</th>\n",
       "      <td>SE</td>\n",
       "      <td>Data Science Manager</td>\n",
       "      <td>94665</td>\n",
       "      <td>50</td>\n",
       "      <td>IN</td>\n",
       "      <td>L</td>\n",
       "    </tr>\n",
       "  </tbody>\n",
       "</table>\n",
       "<p>2357 rows × 6 columns</p>\n",
       "</div>"
      ],
      "text/plain": [
       "     experience_level                 job_title  salary_in_usd  remote_ratio  \\\n",
       "0                  SE  Principal Data Scientist          85847           100   \n",
       "1                  MI               ML Engineer          30000           100   \n",
       "2                  MI               ML Engineer          25500           100   \n",
       "3                  SE            Data Scientist         175000           100   \n",
       "4                  SE            Data Scientist         120000           100   \n",
       "...               ...                       ...            ...           ...   \n",
       "3750               SE            Data Scientist         412000           100   \n",
       "3751               MI  Principal Data Scientist         151000           100   \n",
       "3752               EN            Data Scientist         105000           100   \n",
       "3753               EN     Business Data Analyst         100000           100   \n",
       "3754               SE      Data Science Manager          94665            50   \n",
       "\n",
       "     company_location company_size  \n",
       "0                  ES            L  \n",
       "1                  US            S  \n",
       "2                  US            S  \n",
       "3                  CA            M  \n",
       "4                  CA            M  \n",
       "...               ...          ...  \n",
       "3750               US            L  \n",
       "3751               US            L  \n",
       "3752               US            S  \n",
       "3753               US            L  \n",
       "3754               IN            L  \n",
       "\n",
       "[2357 rows x 6 columns]"
      ]
     },
     "execution_count": 14,
     "metadata": {},
     "output_type": "execute_result"
    }
   ],
   "source": [
    "# Handle missing values\n",
    "# - Drop rows where job_title is missing (essential info)\n",
    "df_cleaned = df_cleaned.dropna(subset=['job_title'])\n",
    "print(f\"Total rows AFTER dropping row of missing job_title: {df_cleaned.shape[0]}\")\n",
    "df_cleaned  # DataFrame without missing job_title"
   ]
  },
  {
   "cell_type": "code",
   "execution_count": 15,
   "id": "d88295e3-2f77-4f54-ac73-14a5dddfae46",
   "metadata": {},
   "outputs": [
    {
     "data": {
      "text/plain": [
       "0       L\n",
       "1       S\n",
       "2       S\n",
       "3       M\n",
       "4       M\n",
       "       ..\n",
       "3750    L\n",
       "3751    L\n",
       "3752    S\n",
       "3753    L\n",
       "3754    L\n",
       "Name: company_size, Length: 2357, dtype: object"
      ]
     },
     "execution_count": 15,
     "metadata": {},
     "output_type": "execute_result"
    }
   ],
   "source": [
    "# Handle missing values\n",
    "# - Fill missing values in company_size with the mode\n",
    "df_cleaned.loc[:, 'company_size'] = df_cleaned['company_size'].fillna(df_cleaned['company_size'].mode()[0])\n",
    "df_cleaned['company_size'] # DataFrame without missing company_size"
   ]
  },
  {
   "cell_type": "code",
   "execution_count": 16,
   "id": "e82fcdb9-aff3-4eea-9061-c969ae644cb0",
   "metadata": {},
   "outputs": [
    {
     "data": {
      "image/png": "[encoded data removed]",
      "text/plain": [
       "<Figure size 640x480 with 1 Axes>"
      ]
     },
     "metadata": {},
     "output_type": "display_data"
    }
   ],
   "source": [
    "# 根據箱型圖，來查看salary_in_usd的outlier(異常值)狀況\n",
    "import seaborn as sns\n",
    "import matplotlib.pyplot as plt\n",
    "\n",
    "sns.boxplot(x=df_cleaned[\"salary_in_usd\"])  # 以薪資為例\n",
    "plt.show()"
   ]
  },
  {
   "cell_type": "code",
   "execution_count": 17,
   "id": "82bc310c-e616-4dca-b0d2-a96dd4d05bcc",
   "metadata": {},
   "outputs": [
    {
     "name": "stdout",
     "output_type": "stream",
     "text": [
      "lower_bound =  -58750.0\n",
      "upper_bound =  315250.0\n"
     ]
    }
   ],
   "source": [
    "# Check Outlier Values of \"salary_in_usd\"  (使用四分位距 (IQR) 來判斷異常值)\n",
    "numerical_columns = [\"salary_in_usd\"]\n",
    "Q1 = df_cleaned[numerical_columns].quantile(0.25)\n",
    "Q3 = df_cleaned[numerical_columns].quantile(0.75)\n",
    "IQR = Q3 - Q1\n",
    "# 計算\"salary_in_usd\"的上下outlier界線\n",
    "lower_bound = Q1 - 1.5 * IQR\n",
    "upper_bound = Q3 + 1.5 * IQR\n",
    "print(\"lower_bound = \", lower_bound.values[0])\n",
    "print(\"upper_bound = \", upper_bound.values[0])"
   ]
  },
  {
   "cell_type": "code",
   "execution_count": 18,
   "id": "47bc2fa8-3056-4c0a-9218-c34dd0296513",
   "metadata": {},
   "outputs": [
    {
     "data": {
      "text/html": [
       "<div>\n",
       "<style scoped>\n",
       "    .dataframe tbody tr th:only-of-type {\n",
       "        vertical-align: middle;\n",
       "    }\n",
       "\n",
       "    .dataframe tbody tr th {\n",
       "        vertical-align: top;\n",
       "    }\n",
       "\n",
       "    .dataframe thead th {\n",
       "        text-align: right;\n",
       "    }\n",
       "</style>\n",
       "<table border=\"1\" class=\"dataframe\">\n",
       "  <thead>\n",
       "    <tr style=\"text-align: right;\">\n",
       "      <th></th>\n",
       "      <th>experience_level</th>\n",
       "      <th>job_title</th>\n",
       "      <th>salary_in_usd</th>\n",
       "      <th>remote_ratio</th>\n",
       "      <th>company_location</th>\n",
       "      <th>company_size</th>\n",
       "    </tr>\n",
       "  </thead>\n",
       "  <tbody>\n",
       "    <tr>\n",
       "      <th>0</th>\n",
       "      <td>SE</td>\n",
       "      <td>Principal Data Scientist</td>\n",
       "      <td>85847</td>\n",
       "      <td>100</td>\n",
       "      <td>ES</td>\n",
       "      <td>L</td>\n",
       "    </tr>\n",
       "    <tr>\n",
       "      <th>1</th>\n",
       "      <td>MI</td>\n",
       "      <td>ML Engineer</td>\n",
       "      <td>30000</td>\n",
       "      <td>100</td>\n",
       "      <td>US</td>\n",
       "      <td>S</td>\n",
       "    </tr>\n",
       "    <tr>\n",
       "      <th>2</th>\n",
       "      <td>MI</td>\n",
       "      <td>ML Engineer</td>\n",
       "      <td>25500</td>\n",
       "      <td>100</td>\n",
       "      <td>US</td>\n",
       "      <td>S</td>\n",
       "    </tr>\n",
       "    <tr>\n",
       "      <th>3</th>\n",
       "      <td>SE</td>\n",
       "      <td>Data Scientist</td>\n",
       "      <td>175000</td>\n",
       "      <td>100</td>\n",
       "      <td>CA</td>\n",
       "      <td>M</td>\n",
       "    </tr>\n",
       "    <tr>\n",
       "      <th>4</th>\n",
       "      <td>SE</td>\n",
       "      <td>Data Scientist</td>\n",
       "      <td>120000</td>\n",
       "      <td>100</td>\n",
       "      <td>CA</td>\n",
       "      <td>M</td>\n",
       "    </tr>\n",
       "    <tr>\n",
       "      <th>...</th>\n",
       "      <td>...</td>\n",
       "      <td>...</td>\n",
       "      <td>...</td>\n",
       "      <td>...</td>\n",
       "      <td>...</td>\n",
       "      <td>...</td>\n",
       "    </tr>\n",
       "    <tr>\n",
       "      <th>3750</th>\n",
       "      <td>SE</td>\n",
       "      <td>Data Scientist</td>\n",
       "      <td>131975</td>\n",
       "      <td>100</td>\n",
       "      <td>US</td>\n",
       "      <td>L</td>\n",
       "    </tr>\n",
       "    <tr>\n",
       "      <th>3751</th>\n",
       "      <td>MI</td>\n",
       "      <td>Principal Data Scientist</td>\n",
       "      <td>151000</td>\n",
       "      <td>100</td>\n",
       "      <td>US</td>\n",
       "      <td>L</td>\n",
       "    </tr>\n",
       "    <tr>\n",
       "      <th>3752</th>\n",
       "      <td>EN</td>\n",
       "      <td>Data Scientist</td>\n",
       "      <td>105000</td>\n",
       "      <td>100</td>\n",
       "      <td>US</td>\n",
       "      <td>S</td>\n",
       "    </tr>\n",
       "    <tr>\n",
       "      <th>3753</th>\n",
       "      <td>EN</td>\n",
       "      <td>Business Data Analyst</td>\n",
       "      <td>100000</td>\n",
       "      <td>100</td>\n",
       "      <td>US</td>\n",
       "      <td>L</td>\n",
       "    </tr>\n",
       "    <tr>\n",
       "      <th>3754</th>\n",
       "      <td>SE</td>\n",
       "      <td>Data Science Manager</td>\n",
       "      <td>94665</td>\n",
       "      <td>50</td>\n",
       "      <td>IN</td>\n",
       "      <td>L</td>\n",
       "    </tr>\n",
       "  </tbody>\n",
       "</table>\n",
       "<p>2357 rows × 6 columns</p>\n",
       "</div>"
      ],
      "text/plain": [
       "     experience_level                 job_title  salary_in_usd  remote_ratio  \\\n",
       "0                  SE  Principal Data Scientist          85847           100   \n",
       "1                  MI               ML Engineer          30000           100   \n",
       "2                  MI               ML Engineer          25500           100   \n",
       "3                  SE            Data Scientist         175000           100   \n",
       "4                  SE            Data Scientist         120000           100   \n",
       "...               ...                       ...            ...           ...   \n",
       "3750               SE            Data Scientist         131975           100   \n",
       "3751               MI  Principal Data Scientist         151000           100   \n",
       "3752               EN            Data Scientist         105000           100   \n",
       "3753               EN     Business Data Analyst         100000           100   \n",
       "3754               SE      Data Science Manager          94665            50   \n",
       "\n",
       "     company_location company_size  \n",
       "0                  ES            L  \n",
       "1                  US            S  \n",
       "2                  US            S  \n",
       "3                  CA            M  \n",
       "4                  CA            M  \n",
       "...               ...          ...  \n",
       "3750               US            L  \n",
       "3751               US            L  \n",
       "3752               US            S  \n",
       "3753               US            L  \n",
       "3754               IN            L  \n",
       "\n",
       "[2357 rows x 6 columns]"
      ]
     },
     "execution_count": 18,
     "metadata": {},
     "output_type": "execute_result"
    }
   ],
   "source": [
    "# Fix outlier\n",
    "# 方法: 將異常值用平均值替換\n",
    "\n",
    "# Calculate the average salary_in_usd    \n",
    "mean_value = int(df_cleaned[\"salary_in_usd\"].mean())\n",
    "\n",
    "# Replace outliers (those greater than 315250) with the mean value\n",
    "df_cleaned.loc[df_cleaned[\"salary_in_usd\"] > 315250, \"salary_in_usd\"] = mean_value\n",
    "df_cleaned"
   ]
  },
  {
   "cell_type": "code",
   "execution_count": 19,
   "id": "540cd942-17db-492f-b57d-8c819b27ca3f",
   "metadata": {},
   "outputs": [
    {
     "data": {
      "text/html": [
       "<style type=\"text/css\">\n",
       "</style>\n",
       "<table id=\"T_543d8\">\n",
       "  <thead>\n",
       "    <tr>\n",
       "      <th class=\"blank level0\" >&nbsp;</th>\n",
       "      <th id=\"T_543d8_level0_col0\" class=\"col_heading level0 col0\" >experience_level</th>\n",
       "      <th id=\"T_543d8_level0_col1\" class=\"col_heading level0 col1\" >job_title</th>\n",
       "      <th id=\"T_543d8_level0_col2\" class=\"col_heading level0 col2\" >salary_in_usd</th>\n",
       "      <th id=\"T_543d8_level0_col3\" class=\"col_heading level0 col3\" >remote_ratio</th>\n",
       "      <th id=\"T_543d8_level0_col4\" class=\"col_heading level0 col4\" >company_location</th>\n",
       "      <th id=\"T_543d8_level0_col5\" class=\"col_heading level0 col5\" >company_size</th>\n",
       "    </tr>\n",
       "  </thead>\n",
       "  <tbody>\n",
       "    <tr>\n",
       "      <th id=\"T_543d8_level0_row0\" class=\"row_heading level0 row0\" >0</th>\n",
       "      <td id=\"T_543d8_row0_col0\" class=\"data row0 col0\" >SE</td>\n",
       "      <td id=\"T_543d8_row0_col1\" class=\"data row0 col1\" >Principal Data Scientist</td>\n",
       "      <td id=\"T_543d8_row0_col2\" class=\"data row0 col2\" >85847</td>\n",
       "      <td id=\"T_543d8_row0_col3\" class=\"data row0 col3\" >100%</td>\n",
       "      <td id=\"T_543d8_row0_col4\" class=\"data row0 col4\" >ES</td>\n",
       "      <td id=\"T_543d8_row0_col5\" class=\"data row0 col5\" >L</td>\n",
       "    </tr>\n",
       "    <tr>\n",
       "      <th id=\"T_543d8_level0_row1\" class=\"row_heading level0 row1\" >1</th>\n",
       "      <td id=\"T_543d8_row1_col0\" class=\"data row1 col0\" >MI</td>\n",
       "      <td id=\"T_543d8_row1_col1\" class=\"data row1 col1\" >ML Engineer</td>\n",
       "      <td id=\"T_543d8_row1_col2\" class=\"data row1 col2\" >30000</td>\n",
       "      <td id=\"T_543d8_row1_col3\" class=\"data row1 col3\" >100%</td>\n",
       "      <td id=\"T_543d8_row1_col4\" class=\"data row1 col4\" >US</td>\n",
       "      <td id=\"T_543d8_row1_col5\" class=\"data row1 col5\" >S</td>\n",
       "    </tr>\n",
       "    <tr>\n",
       "      <th id=\"T_543d8_level0_row2\" class=\"row_heading level0 row2\" >2</th>\n",
       "      <td id=\"T_543d8_row2_col0\" class=\"data row2 col0\" >MI</td>\n",
       "      <td id=\"T_543d8_row2_col1\" class=\"data row2 col1\" >ML Engineer</td>\n",
       "      <td id=\"T_543d8_row2_col2\" class=\"data row2 col2\" >25500</td>\n",
       "      <td id=\"T_543d8_row2_col3\" class=\"data row2 col3\" >100%</td>\n",
       "      <td id=\"T_543d8_row2_col4\" class=\"data row2 col4\" >US</td>\n",
       "      <td id=\"T_543d8_row2_col5\" class=\"data row2 col5\" >S</td>\n",
       "    </tr>\n",
       "    <tr>\n",
       "      <th id=\"T_543d8_level0_row3\" class=\"row_heading level0 row3\" >3</th>\n",
       "      <td id=\"T_543d8_row3_col0\" class=\"data row3 col0\" >SE</td>\n",
       "      <td id=\"T_543d8_row3_col1\" class=\"data row3 col1\" >Data Scientist</td>\n",
       "      <td id=\"T_543d8_row3_col2\" class=\"data row3 col2\" >175000</td>\n",
       "      <td id=\"T_543d8_row3_col3\" class=\"data row3 col3\" >100%</td>\n",
       "      <td id=\"T_543d8_row3_col4\" class=\"data row3 col4\" >CA</td>\n",
       "      <td id=\"T_543d8_row3_col5\" class=\"data row3 col5\" >M</td>\n",
       "    </tr>\n",
       "    <tr>\n",
       "      <th id=\"T_543d8_level0_row4\" class=\"row_heading level0 row4\" >4</th>\n",
       "      <td id=\"T_543d8_row4_col0\" class=\"data row4 col0\" >SE</td>\n",
       "      <td id=\"T_543d8_row4_col1\" class=\"data row4 col1\" >Data Scientist</td>\n",
       "      <td id=\"T_543d8_row4_col2\" class=\"data row4 col2\" >120000</td>\n",
       "      <td id=\"T_543d8_row4_col3\" class=\"data row4 col3\" >100%</td>\n",
       "      <td id=\"T_543d8_row4_col4\" class=\"data row4 col4\" >CA</td>\n",
       "      <td id=\"T_543d8_row4_col5\" class=\"data row4 col5\" >M</td>\n",
       "    </tr>\n",
       "    <tr>\n",
       "      <th id=\"T_543d8_level0_row5\" class=\"row_heading level0 row5\" >5</th>\n",
       "      <td id=\"T_543d8_row5_col0\" class=\"data row5 col0\" >SE</td>\n",
       "      <td id=\"T_543d8_row5_col1\" class=\"data row5 col1\" >Applied Scientist</td>\n",
       "      <td id=\"T_543d8_row5_col2\" class=\"data row5 col2\" >222200</td>\n",
       "      <td id=\"T_543d8_row5_col3\" class=\"data row5 col3\" >0%</td>\n",
       "      <td id=\"T_543d8_row5_col4\" class=\"data row5 col4\" >US</td>\n",
       "      <td id=\"T_543d8_row5_col5\" class=\"data row5 col5\" >L</td>\n",
       "    </tr>\n",
       "    <tr>\n",
       "      <th id=\"T_543d8_level0_row6\" class=\"row_heading level0 row6\" >6</th>\n",
       "      <td id=\"T_543d8_row6_col0\" class=\"data row6 col0\" >SE</td>\n",
       "      <td id=\"T_543d8_row6_col1\" class=\"data row6 col1\" >Applied Scientist</td>\n",
       "      <td id=\"T_543d8_row6_col2\" class=\"data row6 col2\" >136000</td>\n",
       "      <td id=\"T_543d8_row6_col3\" class=\"data row6 col3\" >0%</td>\n",
       "      <td id=\"T_543d8_row6_col4\" class=\"data row6 col4\" >US</td>\n",
       "      <td id=\"T_543d8_row6_col5\" class=\"data row6 col5\" >L</td>\n",
       "    </tr>\n",
       "    <tr>\n",
       "      <th id=\"T_543d8_level0_row7\" class=\"row_heading level0 row7\" >7</th>\n",
       "      <td id=\"T_543d8_row7_col0\" class=\"data row7 col0\" >SE</td>\n",
       "      <td id=\"T_543d8_row7_col1\" class=\"data row7 col1\" >Data Scientist</td>\n",
       "      <td id=\"T_543d8_row7_col2\" class=\"data row7 col2\" >219000</td>\n",
       "      <td id=\"T_543d8_row7_col3\" class=\"data row7 col3\" >0%</td>\n",
       "      <td id=\"T_543d8_row7_col4\" class=\"data row7 col4\" >CA</td>\n",
       "      <td id=\"T_543d8_row7_col5\" class=\"data row7 col5\" >M</td>\n",
       "    </tr>\n",
       "    <tr>\n",
       "      <th id=\"T_543d8_level0_row8\" class=\"row_heading level0 row8\" >8</th>\n",
       "      <td id=\"T_543d8_row8_col0\" class=\"data row8 col0\" >SE</td>\n",
       "      <td id=\"T_543d8_row8_col1\" class=\"data row8 col1\" >Data Scientist</td>\n",
       "      <td id=\"T_543d8_row8_col2\" class=\"data row8 col2\" >141000</td>\n",
       "      <td id=\"T_543d8_row8_col3\" class=\"data row8 col3\" >0%</td>\n",
       "      <td id=\"T_543d8_row8_col4\" class=\"data row8 col4\" >CA</td>\n",
       "      <td id=\"T_543d8_row8_col5\" class=\"data row8 col5\" >M</td>\n",
       "    </tr>\n",
       "    <tr>\n",
       "      <th id=\"T_543d8_level0_row9\" class=\"row_heading level0 row9\" >9</th>\n",
       "      <td id=\"T_543d8_row9_col0\" class=\"data row9 col0\" >SE</td>\n",
       "      <td id=\"T_543d8_row9_col1\" class=\"data row9 col1\" >Data Scientist</td>\n",
       "      <td id=\"T_543d8_row9_col2\" class=\"data row9 col2\" >147100</td>\n",
       "      <td id=\"T_543d8_row9_col3\" class=\"data row9 col3\" >0%</td>\n",
       "      <td id=\"T_543d8_row9_col4\" class=\"data row9 col4\" >US</td>\n",
       "      <td id=\"T_543d8_row9_col5\" class=\"data row9 col5\" >M</td>\n",
       "    </tr>\n",
       "  </tbody>\n",
       "</table>\n"
      ],
      "text/plain": [
       "<pandas.io.formats.style.Styler at 0x23fed63b250>"
      ]
     },
     "execution_count": 19,
     "metadata": {},
     "output_type": "execute_result"
    }
   ],
   "source": [
    "# Convert Data Types for Consistency\n",
    "# The salary data type is changed to \"integer\"\n",
    "df_cleaned.loc[:, \"salary_in_usd\"] = df_cleaned[\"salary_in_usd\"].astype(int)\n",
    "\n",
    "# remote_ratio is displayed as a percentage, but the value is still int, so it can be directly calculated in the future\n",
    "df_cleaned.head(10).style.format({\"remote_ratio\": \"{}%\"})"
   ]
  },
  {
   "cell_type": "markdown",
   "id": "2ab248c8-56e4-4c2e-ac90-02261bbd50f6",
   "metadata": {},
   "source": [
    "###  Summary of Cleaned Data"
   ]
  },
  {
   "cell_type": "code",
   "execution_count": 20,
   "id": "9de940c1-e10e-4825-bb4c-ec4b80dad4eb",
   "metadata": {},
   "outputs": [
    {
     "data": {
      "text/plain": [
       "(2357, 6)"
      ]
     },
     "execution_count": 20,
     "metadata": {},
     "output_type": "execute_result"
    }
   ],
   "source": [
    "# Data Shape\n",
    "final_shape = df_cleaned.shape\n",
    "final_shape    #(rows,columns)"
   ]
  },
  {
   "cell_type": "code",
   "execution_count": 21,
   "id": "d5470278-d349-4dd2-ad95-bb9789db5d1a",
   "metadata": {},
   "outputs": [
    {
     "data": {
      "text/plain": [
       "experience_level    object\n",
       "job_title           object\n",
       "salary_in_usd        int64\n",
       "remote_ratio         int64\n",
       "company_location    object\n",
       "company_size        object\n",
       "dtype: object"
      ]
     },
     "execution_count": 21,
     "metadata": {},
     "output_type": "execute_result"
    }
   ],
   "source": [
    "# Data Type\n",
    "final_dtypes = df_cleaned.dtypes\n",
    "final_dtypes"
   ]
  }
 ],
 "metadata": {
  "kernelspec": {
   "display_name": "Python 3 (ipykernel)",
   "language": "python",
   "name": "python3"
  },
  "language_info": {
   "codemirror_mode": {
    "name": "ipython",
    "version": 3
   },
   "file_extension": ".py",
   "mimetype": "text/x-python",
   "name": "python",
   "nbconvert_exporter": "python",
   "pygments_lexer": "ipython3",
   "version": "3.10.12"
  }
 },
 "nbformat": 4,
 "nbformat_minor": 5
}
